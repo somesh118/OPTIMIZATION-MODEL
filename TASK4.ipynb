{
  "nbformat": 4,
  "nbformat_minor": 0,
  "metadata": {
    "colab": {
      "provenance": [],
      "authorship_tag": "ABX9TyNjMkKqpzTbR/lRv9AYIgCB",
      "include_colab_link": true
    },
    "kernelspec": {
      "name": "python3",
      "display_name": "Python 3"
    },
    "language_info": {
      "name": "python"
    }
  },
  "cells": [
    {
      "cell_type": "markdown",
      "metadata": {
        "id": "view-in-github",
        "colab_type": "text"
      },
      "source": [
        "<a href=\"https://colab.research.google.com/github/somesh118/OPTIMIZATION-MODEL/blob/main/TASK4.ipynb\" target=\"_parent\"><img src=\"https://colab.research.google.com/assets/colab-badge.svg\" alt=\"Open In Colab\"/></a>"
      ]
    },
    {
      "cell_type": "code",
      "source": [
        "pip install pulp"
      ],
      "metadata": {
        "colab": {
          "base_uri": "https://localhost:8080/"
        },
        "id": "LlMLOJltZTVG",
        "outputId": "2f00dfb4-6905-4ba5-bd4f-d1ee9c311b81"
      },
      "execution_count": 3,
      "outputs": [
        {
          "output_type": "stream",
          "name": "stdout",
          "text": [
            "Collecting pulp\n",
            "  Downloading pulp-3.2.1-py3-none-any.whl.metadata (6.9 kB)\n",
            "Downloading pulp-3.2.1-py3-none-any.whl (16.4 MB)\n",
            "\u001b[2K   \u001b[90m━━━━━━━━━━━━━━━━━━━━━━━━━━━━━━━━━━━━━━━━\u001b[0m \u001b[32m16.4/16.4 MB\u001b[0m \u001b[31m127.5 MB/s\u001b[0m eta \u001b[36m0:00:00\u001b[0m\n",
            "\u001b[?25hInstalling collected packages: pulp\n",
            "Successfully installed pulp-3.2.1\n"
          ]
        }
      ]
    },
    {
      "cell_type": "code",
      "execution_count": 6,
      "metadata": {
        "id": "dCOOt7gBYqrY"
      },
      "outputs": [],
      "source": [
        "import pulp\n",
        "\n",
        "# Define the problem\n",
        "model = pulp.LpProblem(\"Diet Optimization\", pulp.LpMinimize)\n",
        "\n",
        "# Decision variables: servings of each food (non-negative)\n",
        "foods = ['Chicken', 'Beef', 'Rice', 'Broccoli']\n",
        "costs = {'Chicken': 2, 'Beef': 3, 'Rice': 1, 'Broccoli': 1}\n",
        "\n",
        "# Define nutrients per serving\n",
        "nutrients = {\n",
        "    'Protein': {'Chicken': 25, 'Beef': 30, 'Rice': 2, 'Broccoli': 4},\n",
        "    'Fat':     {'Chicken': 3,  'Beef': 20, 'Rice': 0.5, 'Broccoli': 0.2},\n",
        "    'Carbs':   {'Chicken': 0,  'Beef': 0,  'Rice': 45, 'Broccoli': 10},\n",
        "    'Calories':{'Chicken': 130,'Beef': 250,'Rice': 200,'Broccoli': 50},\n",
        "}\n",
        "\n",
        "\n"
      ]
    },
    {
      "cell_type": "code",
      "source": [
        "# Define the variable for the model\n",
        "servings = {food: pulp.LpVariable(food, lowBound=0) for food in foods}\n",
        "\n",
        "# Objective: Minimize cost\n",
        "model += pulp.lpSum([costs[f] * servings[f] for f in foods]), \"Total Cost\"\n",
        "\n",
        "# Constraints\n",
        "model += pulp.lpSum([nutrients['Protein'][f] * servings[f] for f in foods]) >= 50, \"Protein Requirement\"\n",
        "model += pulp.lpSum([nutrients['Fat'][f] * servings[f] for f in foods]) <= 70, \"Fat Limit\"\n",
        "model += pulp.lpSum([nutrients['Carbs'][f] * servings[f] for f in foods]) >= 130, \"Carb Requirement\"\n",
        "model += pulp.lpSum([nutrients['Calories'][f] * servings[f] for f in foods]) <= 2000, \"Calorie Limit\"\n",
        "\n"
      ],
      "metadata": {
        "id": "yWxEGQLnZ1M-"
      },
      "execution_count": 7,
      "outputs": []
    },
    {
      "cell_type": "code",
      "source": [
        "# Solve the optimization(optimize)\n",
        "model.solve()\n",
        "\n",
        "# Output\n",
        "print(\"Status:\", pulp.LpStatus[model.status])\n",
        "for f in foods:\n",
        "    print(f\"{f}: {servings[f].varValue:.2f} servings\")\n",
        "print(\"Total Cost: $\", pulp.value(model.objective))"
      ],
      "metadata": {
        "colab": {
          "base_uri": "https://localhost:8080/"
        },
        "id": "T2kUaKuyZwTs",
        "outputId": "d5cd57be-ca3a-4ca1-bb17-f7652828977d"
      },
      "execution_count": 8,
      "outputs": [
        {
          "output_type": "stream",
          "name": "stdout",
          "text": [
            "Status: Optimal\n",
            "Chicken: 1.77 servings\n",
            "Beef: 0.00 servings\n",
            "Rice: 2.89 servings\n",
            "Broccoli: 0.00 servings\n",
            "Total Cost: $ 6.4266667\n"
          ]
        }
      ]
    }
  ]
}